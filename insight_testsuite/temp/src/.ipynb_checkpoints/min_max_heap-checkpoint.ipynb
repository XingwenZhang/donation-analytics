{
 "cells": [
  {
   "cell_type": "code",
   "execution_count": 5,
   "metadata": {
    "collapsed": true
   },
   "outputs": [],
   "source": [
    "import heapq"
   ]
  },
  {
   "cell_type": "code",
   "execution_count": 6,
   "metadata": {
    "collapsed": true
   },
   "outputs": [],
   "source": [
    "\n",
    "# Reference: https://stackoverflow.com/questions/2501457/what-do-i-use-for-a-max-heap-implementation-in-python"
   ]
  },
  {
   "cell_type": "code",
   "execution_count": 7,
   "metadata": {
    "collapsed": true
   },
   "outputs": [],
   "source": [
    "class MaxHeapObj(object):\n",
    "    def __init__(self,val): self.val = val\n",
    "    def __lt__(self,other): return self.val > other.val\n",
    "    def __eq__(self,other): return self.val == other.val\n",
    "    def __str__(self): return str(self.val)\n",
    "\n",
    "class MinHeap(object):\n",
    "    def __init__(self): self.h = []\n",
    "    def heappush(self,x): heapq.heappush(self.h,x)\n",
    "    def heappop(self): return heapq.heappop(self.h)\n",
    "    def heaptop(self):\n",
    "        if not self.h:\n",
    "            return None\n",
    "        return self.h[0]\n",
    "#     def __getitem__(self,i): return self.h[i]\n",
    "    def __len__(self): return len(self.h)\n",
    "\n",
    "class MaxHeap(MinHeap):\n",
    "    def heappush(self,x): heapq.heappush(self.h,MaxHeapObj(x))\n",
    "    def heappop(self): return heapq.heappop(self.h).val\n",
    "    def heaptop(self):\n",
    "        if not self.h:\n",
    "            return None\n",
    "        return self.h[0].val\n",
    "#     def __getitem__(self,i): return self.h[i].val\n",
    "    "
   ]
  },
  {
   "cell_type": "code",
   "execution_count": 8,
   "metadata": {},
   "outputs": [
    {
     "name": "stdout",
     "output_type": "stream",
     "text": [
      "4 12\n",
      "4 12\n"
     ]
    }
   ],
   "source": [
    "# minh = MinHeap()\n",
    "# maxh = MaxHeap()\n",
    "# # add some values\n",
    "# minh.heappush(12)\n",
    "# maxh.heappush(12)\n",
    "# minh.heappush(4)\n",
    "# maxh.heappush(4)\n",
    "# # fetch \"top\" values\n",
    "# print(minh[0],maxh[0]) # \"4 12\"\n",
    "# # fetch and remove \"top\" values\n",
    "# print(minh.heappop(),maxh.heappop()) # \"4 12\""
   ]
  },
  {
   "cell_type": "code",
   "execution_count": null,
   "metadata": {
    "collapsed": true
   },
   "outputs": [],
   "source": []
  }
 ],
 "metadata": {
  "kernelspec": {
   "display_name": "Python 3",
   "language": "python",
   "name": "python3"
  },
  "language_info": {
   "codemirror_mode": {
    "name": "ipython",
    "version": 3
   },
   "file_extension": ".py",
   "mimetype": "text/x-python",
   "name": "python",
   "nbconvert_exporter": "python",
   "pygments_lexer": "ipython3",
   "version": "3.6.1"
  }
 },
 "nbformat": 4,
 "nbformat_minor": 2
}
