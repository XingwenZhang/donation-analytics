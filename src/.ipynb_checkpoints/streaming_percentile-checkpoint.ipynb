{
 "cells": [
  {
   "cell_type": "code",
   "execution_count": null,
   "metadata": {
    "collapsed": true
   },
   "outputs": [],
   "source": [
    "import math\n",
    "from min_max_heap import MinHeap, MaxHeap\n",
    "\n",
    "# Reference: https://cs.stackexchange.com/questions/57542/find-pth-percentile-of-a-stream-of-numbers\n",
    "# Reference: https://www.geeksforgeeks.org/median-of-stream-of-running-integers-using-stl/\n",
    "# Reference: https://en.wikipedia.org/wiki/Percentile"
   ]
  },
  {
   "cell_type": "code",
   "execution_count": null,
   "metadata": {
    "collapsed": true
   },
   "outputs": [],
   "source": []
  },
  {
   "cell_type": "code",
   "execution_count": null,
   "metadata": {
    "collapsed": true
   },
   "outputs": [],
   "source": [
    "class StreamingPercentile(object):\n",
    "    '''\n",
    "    According to the https://en.wikipedia.org/wiki/Percentile to compute the location index of percentile value\n",
    "    Compare with the index, keep max heap's size equal to index and only store the smaller values;\n",
    "    store the rest values into min heap\n",
    "    '''\n",
    "    def __init__(self, percentile):\n",
    "        self.__percentile = percentile\n",
    "        self.__min_heap = MinHeap()\n",
    "        self.__max_heap = MaxHeap()\n",
    "        self.__total_amount = 0.0\n",
    "        self.__total_counts = 0\n",
    "        \n",
    "    def push(self, donation_amount):\n",
    "        self.__total_amount += donation_amount\n",
    "        self.__total_counts += 1\n",
    "        \n",
    "        index = (int)math.ceil(self.__percentile * self.__total_counts / 100.0)\n",
    "        \n",
    "        # Insert and then adjust the two heaps size\n",
    "        if len(self.__max_heap) == 0 or donation_amount < self.__max_heap.heaptop():\n",
    "            self.__max_heap.heappush(donation_val)\n",
    "        else:\n",
    "            self.__min_heap.heappush(donation_val)\n",
    "            \n",
    "        while len(self.__max_heap) != index:\n",
    "            if len(self.__max_heap) > index:\n",
    "                self.__min_heap.heappush(self.__max_heap.heappop())\n",
    "            else:\n",
    "                self.__max_heap.heappush(self.__min_heap.heappop())\n",
    "            \n",
    "    @property  \n",
    "    def percentile_value(self):\n",
    "        return self.__max_heap.heaptop()\n",
    "    \n",
    "    @property\n",
    "    def total_counts(self):\n",
    "        return self.__total_amount\n",
    "    \n",
    "    @property\n",
    "    def total_amount(self):\n",
    "        return self.__total_counts"
   ]
  }
 ],
 "metadata": {
  "kernelspec": {
   "display_name": "Python 3",
   "language": "python",
   "name": "python3"
  },
  "language_info": {
   "codemirror_mode": {
    "name": "ipython",
    "version": 3
   },
   "file_extension": ".py",
   "mimetype": "text/x-python",
   "name": "python",
   "nbconvert_exporter": "python",
   "pygments_lexer": "ipython3",
   "version": "3.6.1"
  }
 },
 "nbformat": 4,
 "nbformat_minor": 2
}
