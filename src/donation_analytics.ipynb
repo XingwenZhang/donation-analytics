{
 "cells": [
  {
   "cell_type": "code",
   "execution_count": 2,
   "metadata": {
    "collapsed": true
   },
   "outputs": [],
   "source": [
    "#!/usr/bin/env python\n",
    "import argparse\n",
    "from FEC_individual_donation_processor import FECIndividualDonationProcessor"
   ]
  },
  {
   "cell_type": "code",
   "execution_count": null,
   "metadata": {
    "collapsed": true
   },
   "outputs": [],
   "source": [
    "# PERCENTILE_FILE_PATH = '../input/percentile.txt'\n",
    "# ITCONT_FILE_PATH = '../input/itcont.txt'\n",
    "# OUTPUT_FILE_PATH = '../output/repeat_donors.txt'\n"
   ]
  },
  {
   "cell_type": "code",
   "execution_count": null,
   "metadata": {
    "collapsed": true
   },
   "outputs": [],
   "source": [
    "def main():\n",
    "    parser = argparse.ArgumentParser(description='parse input files and output file')\n",
    "    parser.add_argument('individual_contribution', help='Contribution File')\n",
    "    parser.add_argument('required_percentile', help='Percentile File')\n",
    "    parser.add_argument('output_donor', help='Result File')\n",
    "    args = parser.parse_args()\n",
    "    \n",
    "    with open(args.required_percentile, 'r') as f_percentile:\n",
    "        percentile = (int)f_percentile.read().strip()\n",
    "    \n",
    "    processor = FECIndividualDonationProcessor(percentile)\n",
    "    \n",
    "    with open (args.individual_contribution,'r') as f_cont, open(args.output_donor, 'w') as f_cont:\n",
    "        for line in f_cont:\n",
    "            record = processor.process(line.strip())\n",
    "            if record:\n",
    "                f_donor.write(record + '\\n')\n",
    "                \n",
    "if __name__ == '__main__':\n",
    "    main()"
   ]
  }
 ],
 "metadata": {
  "kernelspec": {
   "display_name": "Python 3",
   "language": "python",
   "name": "python3"
  },
  "language_info": {
   "codemirror_mode": {
    "name": "ipython",
    "version": 3
   },
   "file_extension": ".py",
   "mimetype": "text/x-python",
   "name": "python",
   "nbconvert_exporter": "python",
   "pygments_lexer": "ipython3",
   "version": "3.6.1"
  }
 },
 "nbformat": 4,
 "nbformat_minor": 2
}
