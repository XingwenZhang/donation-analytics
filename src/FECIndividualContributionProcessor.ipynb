{
 "cells": [
  {
   "cell_type": "code",
   "execution_count": 33,
   "metadata": {
    "collapsed": true
   },
   "outputs": [],
   "source": [
    "from collections import namedtuple\n",
    "import datetime\n",
    "\n",
    "from streaming_percentile import StreamingPercentile"
   ]
  },
  {
   "cell_type": "code",
   "execution_count": 35,
   "metadata": {},
   "outputs": [],
   "source": [
    "Donor = namedtuple('Donor',['name', 'zip'])\n",
    "DonationTarget = namedtuple('DonationTarget', ['recipient', 'zip', 'year'])\n",
    "RecordLine = namedtuple('RecordLine', \n",
    "                    ['recipient', 'No2', 'No3', 'No4', 'No5', 'No6', 'No7', \n",
    "                     'name', 'No9', 'No10', 'zip', 'No12', 'No13', 'date',\n",
    "                     'amount', 'other', 'No17', 'No18', 'No19', 'No20', 'No21'])\n",
    "\n",
    "RECORD_LENTH = 21\n",
    "VALID_ZIP_LENGTH = 5\n",
    "\n",
    "def get_date(string_date):\n",
    "    try:\n",
    "        date_of_transaction = datetime.datetime.strptime(string_date, \"%m%d%Y\")\n",
    "        return date_of_transaction\n",
    "    except:\n",
    "        return None"
   ]
  },
  {
   "cell_type": "code",
   "execution_count": 37,
   "metadata": {},
   "outputs": [
    {
     "name": "stdout",
     "output_type": "stream",
     "text": [
      "2018\n"
     ]
    }
   ],
   "source": [
    "test = namedtuple('test',['p1','p2'])\n",
    "b = [1,2]\n",
    "c = test(*b)\n",
    "\n",
    "res = get_date('03212018')\n",
    "print(res.year)\n",
    "\n",
    "# res = string_to_date('03212017')\n",
    "# print(res)"
   ]
  },
  {
   "cell_type": "code",
   "execution_count": 38,
   "metadata": {},
   "outputs": [],
   "source": [
    "if (not True) or (None):\n",
    "    print('test')"
   ]
  },
  {
   "cell_type": "code",
   "execution_count": null,
   "metadata": {
    "collapsed": true
   },
   "outputs": [],
   "source": [
    "class FECIndividualContributionProcessor(object):\n",
    "    '''\n",
    "    Process the whole contribution file line by line\n",
    "    '''\n",
    "    def __init__(self, percentile):\n",
    "        self.percentile = percentile\n",
    "        self.target_percentile = dict() # Hashmap for lookup, key:value -> DonationTarget : cur_percentile\n",
    "        self.repeat_donors = dict() # Hashmap for lookup, key:value -> Donor : minimum donation year    \n",
    "    \n",
    "    def is_repeat_donor(self, donor, cur_year):\n",
    "        if donor in self.repeat_donors:\n",
    "            if cur_year > self.repeat_donors[donor]:\n",
    "                return True\n",
    "        \n",
    "        # Update or insert the min year and return false\n",
    "        self.repeat_donors[donor] = cur_year\n",
    "        return False\n",
    "    \n",
    "    def format_output(self, donation_target, year):\n",
    "        '''\n",
    "        recipient|zip|year|percentile|total_amount|total_number_of_donors\n",
    "        '''\n",
    "        percentile_val = str(self.target_percentile[donation_target].get_percentile())\n",
    "        total_amount = str(self.target_percentile[donation_target].get_amount())\n",
    "        total_number_of_donors = str(self.target_percentile[donation_target].get_counts())\n",
    "        year = str(year)\n",
    "        return '|'.join([donation_target.recipient, donation_target.zip, year, percentile_val, total_amount, total_number_of_donors])\n",
    "        \n",
    "    def process(self, record):\n",
    "        if not record:\n",
    "            return None\n",
    "        \n",
    "        record = record.split('|')\n",
    "        if len(record) != RECORD_LENGTH:\n",
    "            return None\n",
    "        \n",
    "        record = RecordLine(*record)\n",
    "        \n",
    "        date_of_transaction = get_date(record.date)\n",
    "        \n",
    "        # Check validation\n",
    "        if record.other or (not date_of_transaction) or len(record.zip) < VALID_ZIP_LENGTH or (not record.name) or (not record.recipient) or (not record.amount):\n",
    "            return None\n",
    "        \n",
    "        record.zip = record.zip[:VALID_ZIP_LENGTH]\n",
    "        \n",
    "        donor = Donor(record.name, record.zip)\n",
    "        \n",
    "        if not self.is_repeat_donor(donor, date_of_transaction.year):\n",
    "            return None\n",
    "        \n",
    "        donation_target = DonationTarget(record.recipient, record.zip, date_of_transaction.year)\n",
    "        if donation_target not in self.target_percentile:\n",
    "            self.target_percentile[donation_target] = StreamingPercentile(self.percentile)\n",
    "        self.target_percentile[donation_target].push(float(record.amount))\n",
    "        \n",
    "        return self.format_output(donation_target, date_of_transaction.year)\n",
    "            "
   ]
  }
 ],
 "metadata": {
  "kernelspec": {
   "display_name": "Python 3",
   "language": "python",
   "name": "python3"
  },
  "language_info": {
   "codemirror_mode": {
    "name": "ipython",
    "version": 3
   },
   "file_extension": ".py",
   "mimetype": "text/x-python",
   "name": "python",
   "nbconvert_exporter": "python",
   "pygments_lexer": "ipython3",
   "version": "3.6.1"
  }
 },
 "nbformat": 4,
 "nbformat_minor": 2
}
