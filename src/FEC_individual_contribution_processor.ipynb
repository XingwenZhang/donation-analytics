{
 "cells": [
  {
   "cell_type": "code",
   "execution_count": 33,
   "metadata": {
    "collapsed": true
   },
   "outputs": [],
   "source": [
    "from collections import namedtuple\n",
    "import datetime\n",
    "\n",
    "from streaming_percentile import StreamingPercentile"
   ]
  },
  {
   "cell_type": "code",
   "execution_count": 35,
   "metadata": {},
   "outputs": [],
   "source": [
    "Donor = namedtuple('Donor',['name', 'zip'])\n",
    "DonationTarget = namedtuple('DonationTarget', ['recipient', 'zip', 'year'])\n",
    "RecordLine = namedtuple('RecordLine', \n",
    "                    ['recipient', 'No2', 'No3', 'No4', 'No5', 'No6', 'No7', \n",
    "                     'name', 'No9', 'No10', 'zip', 'No12', 'No13', 'date',\n",
    "                     'amount', 'other', 'No17', 'No18', 'No19', 'No20', 'No21'])\n",
    "\n",
    "RECORD_LENTH = 21\n",
    "VALID_ZIP_LENGTH = 5\n",
    "\n",
    "def get_date(string_date):\n",
    "    try:\n",
    "        date_of_transaction = datetime.datetime.strptime(string_date, \"%m%d%Y\")\n",
    "        return date_of_transaction\n",
    "    except:\n",
    "        return None"
   ]
  },
  {
   "cell_type": "code",
   "execution_count": 37,
   "metadata": {},
   "outputs": [
    {
     "name": "stdout",
     "output_type": "stream",
     "text": [
      "2018\n"
     ]
    }
   ],
   "source": [
    "# test = namedtuple('test',['p1','p2'])\n",
    "# b = [1,2]\n",
    "# c = test(*b)\n",
    "\n",
    "# res = get_date('03212018')\n",
    "# print(res.year)\n",
    "\n",
    "# res = string_to_date('03212017')\n",
    "# print(res)"
   ]
  },
  {
   "cell_type": "code",
   "execution_count": 39,
   "metadata": {
    "collapsed": true
   },
   "outputs": [],
   "source": [
    "class FECIndividualContributionProcessor(object):\n",
    "    '''\n",
    "    Process the whole contribution file line by line\n",
    "    '''\n",
    "    def __init__(self, percentile):\n",
    "        self.percentile = percentile\n",
    "        self.target_percentile = dict() # Hashmap for lookup, key:value -> DonationTarget : cur_percentile\n",
    "        self.repeat_donors = dict() # Hashmap for lookup, key:value -> Donor : minimum donation year    \n",
    "    \n",
    "    def is_repeat_donor(self, donor, cur_year):\n",
    "        if donor in self.repeat_donors:\n",
    "            if cur_year > self.repeat_donors[donor]:\n",
    "                return True\n",
    "        \n",
    "        # Update or insert the min year and return false\n",
    "        self.repeat_donors[donor] = cur_year\n",
    "        return False\n",
    "    \n",
    "    def format_output(self, donation_target, year):\n",
    "        '''\n",
    "        recipient|zip|year|percentile|total_amount|total_number_of_donors\n",
    "        '''\n",
    "        percentile_val = str(self.target_percentile[donation_target].percentile_value)\n",
    "        total_amount = str(self.target_percentile[donation_target].total_amount)\n",
    "        total_number_of_donors = str(self.target_percentile[donation_target].total_counts)\n",
    "        year = str(year)\n",
    "        return '|'.join([donation_target.recipient, donation_target.zip, year, percentile_val, total_amount, total_number_of_donors])\n",
    "        \n",
    "    def process(self, record):\n",
    "        if not record:\n",
    "            return None\n",
    "        \n",
    "        record = record.split('|')\n",
    "        if len(record) != RECORD_LENGTH:\n",
    "            return None\n",
    "        \n",
    "        record = RecordLine(*record)\n",
    "        \n",
    "        date_of_transaction = get_date(record.date)\n",
    "        \n",
    "        # Check validation\n",
    "        if record.other or (not date_of_transaction) or len(record.zip) < VALID_ZIP_LENGTH or (not record.name) or (not record.recipient) or (not record.amount):\n",
    "            return None\n",
    "        \n",
    "        record.zip = record.zip[:VALID_ZIP_LENGTH]\n",
    "        \n",
    "        donor = Donor(record.name, record.zip)\n",
    "        \n",
    "        if not self.is_repeat_donor(donor, date_of_transaction.year):\n",
    "            return None\n",
    "        \n",
    "        donation_target = DonationTarget(record.recipient, record.zip, date_of_transaction.year)\n",
    "        if donation_target not in self.target_percentile:\n",
    "            self.target_percentile[donation_target] = StreamingPercentile(self.percentile)\n",
    "        self.target_percentile[donation_target].push(float(record.amount))\n",
    "        \n",
    "        return self.format_output(donation_target, date_of_transaction.year)\n",
    "            "
   ]
  },
  {
   "cell_type": "code",
   "execution_count": 52,
   "metadata": {},
   "outputs": [
    {
     "data": {
      "text/plain": [
       "'1231'"
      ]
     },
     "execution_count": 52,
     "metadata": {},
     "output_type": "execute_result"
    }
   ],
   "source": [
    "from decimal import Decimal, ROUND_HALF_UP\n",
    "\n",
    "a = Decimal(1231.2).quantize(0, ROUND_HALF_UP)\n",
    "str(a)"
   ]
  },
  {
   "cell_type": "code",
   "execution_count": 53,
   "metadata": {
    "collapsed": true
   },
   "outputs": [],
   "source": [
    "def num(s):\n",
    "    try:\n",
    "        return int(s)\n",
    "    except ValueError:\n",
    "        return float(s)"
   ]
  },
  {
   "cell_type": "code",
   "execution_count": 68,
   "metadata": {},
   "outputs": [
    {
     "data": {
      "text/plain": [
       "3"
      ]
     },
     "execution_count": 68,
     "metadata": {},
     "output_type": "execute_result"
    }
   ],
   "source": [
    "num('3')"
   ]
  },
  {
   "cell_type": "code",
   "execution_count": 69,
   "metadata": {},
   "outputs": [
    {
     "data": {
      "text/plain": [
       "3.1"
      ]
     },
     "execution_count": 69,
     "metadata": {},
     "output_type": "execute_result"
    }
   ],
   "source": [
    "num('3.1')"
   ]
  },
  {
   "cell_type": "code",
   "execution_count": 70,
   "metadata": {},
   "outputs": [
    {
     "data": {
      "text/plain": [
       "3.2"
      ]
     },
     "execution_count": 70,
     "metadata": {},
     "output_type": "execute_result"
    }
   ],
   "source": [
    "num('3.2')"
   ]
  },
  {
   "cell_type": "code",
   "execution_count": 66,
   "metadata": {
    "collapsed": true
   },
   "outputs": [],
   "source": [
    "def num(string_amount):\n",
    "    '''\n",
    "    Convert string to int or float according to its original value\n",
    "    reference: https://stackoverflow.com/questions/379906/parse-string-to-float-or-int\n",
    "    '''\n",
    "    a = float(string_amount) if '.' in string_amount else int(string_amount)\n",
    "    return a"
   ]
  },
  {
   "cell_type": "code",
   "execution_count": 67,
   "metadata": {},
   "outputs": [
    {
     "ename": "TypeError",
     "evalue": "argument of type 'float' is not iterable",
     "output_type": "error",
     "traceback": [
      "\u001b[0;31m---------------------------------------------------------------------------\u001b[0m",
      "\u001b[0;31mTypeError\u001b[0m                                 Traceback (most recent call last)",
      "\u001b[0;32m<ipython-input-67-f50b5914f0a0>\u001b[0m in \u001b[0;36m<module>\u001b[0;34m()\u001b[0m\n\u001b[0;32m----> 1\u001b[0;31m \u001b[0mprint\u001b[0m\u001b[0;34m(\u001b[0m\u001b[0mnum\u001b[0m\u001b[0;34m(\u001b[0m\u001b[0;36m3.1\u001b[0m\u001b[0;34m)\u001b[0m\u001b[0;34m)\u001b[0m\u001b[0;34m\u001b[0m\u001b[0m\n\u001b[0m",
      "\u001b[0;32m<ipython-input-66-b5ba1e77e02e>\u001b[0m in \u001b[0;36mnum\u001b[0;34m(string_amount)\u001b[0m\n\u001b[1;32m      4\u001b[0m     \u001b[0mreference\u001b[0m\u001b[0;34m:\u001b[0m \u001b[0mhttps\u001b[0m\u001b[0;34m:\u001b[0m\u001b[0;34m//\u001b[0m\u001b[0mstackoverflow\u001b[0m\u001b[0;34m.\u001b[0m\u001b[0mcom\u001b[0m\u001b[0;34m/\u001b[0m\u001b[0mquestions\u001b[0m\u001b[0;34m/\u001b[0m\u001b[0;36m379906\u001b[0m\u001b[0;34m/\u001b[0m\u001b[0mparse\u001b[0m\u001b[0;34m-\u001b[0m\u001b[0mstring\u001b[0m\u001b[0;34m-\u001b[0m\u001b[0mto\u001b[0m\u001b[0;34m-\u001b[0m\u001b[0mfloat\u001b[0m\u001b[0;34m-\u001b[0m\u001b[0;32mor\u001b[0m\u001b[0;34m-\u001b[0m\u001b[0mint\u001b[0m\u001b[0;34m\u001b[0m\u001b[0m\n\u001b[1;32m      5\u001b[0m     '''\n\u001b[0;32m----> 6\u001b[0;31m     \u001b[0ma\u001b[0m \u001b[0;34m=\u001b[0m \u001b[0mfloat\u001b[0m\u001b[0;34m(\u001b[0m\u001b[0mstring_amount\u001b[0m\u001b[0;34m)\u001b[0m \u001b[0;32mif\u001b[0m \u001b[0;34m'.'\u001b[0m \u001b[0;32min\u001b[0m \u001b[0mstring_amount\u001b[0m \u001b[0;32melse\u001b[0m \u001b[0mint\u001b[0m\u001b[0;34m(\u001b[0m\u001b[0mstring_amount\u001b[0m\u001b[0;34m)\u001b[0m\u001b[0;34m\u001b[0m\u001b[0m\n\u001b[0m\u001b[1;32m      7\u001b[0m     \u001b[0;32mreturn\u001b[0m \u001b[0ma\u001b[0m\u001b[0;34m\u001b[0m\u001b[0m\n",
      "\u001b[0;31mTypeError\u001b[0m: argument of type 'float' is not iterable"
     ]
    }
   ],
   "source": [
    "print(num(3.1))"
   ]
  },
  {
   "cell_type": "code",
   "execution_count": null,
   "metadata": {
    "collapsed": true
   },
   "outputs": [],
   "source": []
  }
 ],
 "metadata": {
  "kernelspec": {
   "display_name": "Python 3",
   "language": "python",
   "name": "python3"
  },
  "language_info": {
   "codemirror_mode": {
    "name": "ipython",
    "version": 3
   },
   "file_extension": ".py",
   "mimetype": "text/x-python",
   "name": "python",
   "nbconvert_exporter": "python",
   "pygments_lexer": "ipython3",
   "version": "3.6.1"
  }
 },
 "nbformat": 4,
 "nbformat_minor": 2
}
