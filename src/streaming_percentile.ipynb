{
 "cells": [
  {
   "cell_type": "code",
   "execution_count": null,
   "metadata": {
    "collapsed": true
   },
   "outputs": [],
   "source": [
    "# import min_max_heap \n",
    "# Reference: https://cs.stackexchange.com/questions/57542/find-pth-percentile-of-a-stream-of-numbers\n",
    "# Reference: https://www.geeksforgeeks.org/median-of-stream-of-running-integers-using-stl/"
   ]
  },
  {
   "cell_type": "code",
   "execution_count": null,
   "metadata": {
    "collapsed": true
   },
   "outputs": [],
   "source": [
    "class StreamingPercentile(object):\n",
    "    def __init__():\n",
    "        pass\n",
    "    def push():\n",
    "        pass\n",
    "    def get_percentile():\n",
    "        pass\n",
    "    def get_counts():\n",
    "        pass\n",
    "    def get_amount():\n",
    "        pass"
   ]
  }
 ],
 "metadata": {
  "kernelspec": {
   "display_name": "Python 3",
   "language": "python",
   "name": "python3"
  },
  "language_info": {
   "codemirror_mode": {
    "name": "ipython",
    "version": 3
   },
   "file_extension": ".py",
   "mimetype": "text/x-python",
   "name": "python",
   "nbconvert_exporter": "python",
   "pygments_lexer": "ipython3",
   "version": "3.6.1"
  }
 },
 "nbformat": 4,
 "nbformat_minor": 2
}
